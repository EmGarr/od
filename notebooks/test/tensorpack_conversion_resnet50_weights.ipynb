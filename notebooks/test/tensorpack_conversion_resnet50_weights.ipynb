{
 "cells": [
  {
   "cell_type": "code",
   "execution_count": 1,
   "metadata": {},
   "outputs": [],
   "source": [
    "import tensorflow as tf\n",
    "import numpy as np\n",
    "%load_ext autoreload\n",
    "%autoreload 2"
   ]
  },
  {
   "cell_type": "markdown",
   "metadata": {},
   "source": [
    "## Create the Resnet"
   ]
  },
  {
   "cell_type": "code",
   "execution_count": 2,
   "metadata": {},
   "outputs": [],
   "source": [
    "from kerod.model.backbone.resnet import ResNet50PytorchStyle\n",
    "test = np.zeros((1, 800, 800, 3))\n",
    "model = ResNet50PytorchStyle(input_shape=[None, None, 3], weights=None)\n"
   ]
  },
  {
   "cell_type": "markdown",
   "metadata": {},
   "source": [
    "## Download the tensorpack weights"
   ]
  },
  {
   "cell_type": "code",
   "execution_count": 3,
   "metadata": {
    "scrolled": true
   },
   "outputs": [
    {
     "name": "stdout",
     "output_type": "stream",
     "text": [
      "--2020-05-22 12:30:49--  http://models.tensorpack.com/ResNet/ImageNet-ResNet50.npz\n",
      "Resolving models.tensorpack.com (models.tensorpack.com)... 185.207.105.29\n",
      "Connecting to models.tensorpack.com (models.tensorpack.com)|185.207.105.29|:80... connected.\n",
      "HTTP request sent, awaiting response... 200 OK\n",
      "Length: 95179469 (91M) [application/octet-stream]\n",
      "Saving to: ‘ImageNet-ResNet50.npz.2’\n",
      "\n",
      "ImageNet-ResNet50.n 100%[===================>]  90.77M  18.9MB/s    in 4.9s    \n",
      "\n",
      "2020-05-22 12:30:54 (18.6 MB/s) - ‘ImageNet-ResNet50.npz.2’ saved [95179469/95179469]\n",
      "\n"
     ]
    }
   ],
   "source": [
    "!wget http://models.tensorpack.com/ResNet/ImageNet-ResNet50.npz"
   ]
  },
  {
   "cell_type": "markdown",
   "metadata": {},
   "source": [
    "## Load the weights"
   ]
  },
  {
   "cell_type": "code",
   "execution_count": 3,
   "metadata": {},
   "outputs": [],
   "source": [
    "tensorpack_weights = {}\n",
    "with np.load('ImageNet-ResNet50.npz') as data:\n",
    "    for key in data.keys():\n",
    "        tensorpack_weights[key] = data[key]"
   ]
  },
  {
   "cell_type": "markdown",
   "metadata": {},
   "source": [
    "## Create the mapping dictionary"
   ]
  },
  {
   "cell_type": "code",
   "execution_count": 4,
   "metadata": {},
   "outputs": [],
   "source": [
    "convert_to = {\n",
    "    'conv1_conv/kernel:0': 'conv0/W:0',\n",
    "    'conv1_bn/gamma:0': 'conv0/bn/gamma:0',\n",
    "    'conv1_bn/beta:0': 'conv0/bn/beta:0',\n",
    "    'conv1_bn/moving_mean:0': 'conv0/bn/mean/EMA:0',\n",
    "    'conv1_bn/moving_variance:0': 'conv0/bn/variance/EMA:0',\n",
    "    'moving_variance:0': 'variance/EMA:0',\n",
    "    'moving_mean:0':'mean/EMA:0',\n",
    "    'kernel:0':'W:0',\n",
    "    'resnet50/': '', \n",
    "}"
   ]
  },
  {
   "cell_type": "code",
   "execution_count": 5,
   "metadata": {},
   "outputs": [
    {
     "name": "stdout",
     "output_type": "stream",
     "text": [
      "conv1_conv/kernel:0\n",
      "conv1_bn/gamma:0\n",
      "conv1_bn/beta:0\n",
      "conv1_bn/moving_mean:0\n",
      "conv1_bn/moving_variance:0\n",
      "resnet50/group0/block0/conv1/kernel:0\n",
      "resnet50/group0/block0/conv1/bn/gamma:0\n",
      "resnet50/group0/block0/conv1/bn/beta:0\n",
      "resnet50/group0/block0/conv1/bn/moving_mean:0\n",
      "resnet50/group0/block0/conv1/bn/moving_variance:0\n",
      "resnet50/group0/block0/conv2/kernel:0\n",
      "resnet50/group0/block0/conv2/bn/gamma:0\n",
      "resnet50/group0/block0/conv2/bn/beta:0\n",
      "resnet50/group0/block0/conv2/bn/moving_mean:0\n",
      "resnet50/group0/block0/conv2/bn/moving_variance:0\n",
      "resnet50/group0/block0/convshortcut/kernel:0\n",
      "resnet50/group0/block0/conv3/kernel:0\n",
      "resnet50/group0/block0/convshortcut/bn/gamma:0\n",
      "resnet50/group0/block0/convshortcut/bn/beta:0\n",
      "resnet50/group0/block0/convshortcut/bn/moving_mean:0\n",
      "resnet50/group0/block0/convshortcut/bn/moving_variance:0\n",
      "resnet50/group0/block0/conv3/bn/gamma:0\n",
      "resnet50/group0/block0/conv3/bn/beta:0\n",
      "resnet50/group0/block0/conv3/bn/moving_mean:0\n",
      "resnet50/group0/block0/conv3/bn/moving_variance:0\n",
      "resnet50/group0/block1/conv1/kernel:0\n",
      "resnet50/group0/block1/conv1/bn/gamma:0\n",
      "resnet50/group0/block1/conv1/bn/beta:0\n",
      "resnet50/group0/block1/conv1/bn/moving_mean:0\n",
      "resnet50/group0/block1/conv1/bn/moving_variance:0\n",
      "resnet50/group0/block1/conv2/kernel:0\n",
      "resnet50/group0/block1/conv2/bn/gamma:0\n",
      "resnet50/group0/block1/conv2/bn/beta:0\n",
      "resnet50/group0/block1/conv2/bn/moving_mean:0\n",
      "resnet50/group0/block1/conv2/bn/moving_variance:0\n",
      "resnet50/group0/block1/conv3/kernel:0\n",
      "resnet50/group0/block1/conv3/bn/gamma:0\n",
      "resnet50/group0/block1/conv3/bn/beta:0\n",
      "resnet50/group0/block1/conv3/bn/moving_mean:0\n",
      "resnet50/group0/block1/conv3/bn/moving_variance:0\n",
      "resnet50/group0/block2/conv1/kernel:0\n",
      "resnet50/group0/block2/conv1/bn/gamma:0\n",
      "resnet50/group0/block2/conv1/bn/beta:0\n",
      "resnet50/group0/block2/conv1/bn/moving_mean:0\n",
      "resnet50/group0/block2/conv1/bn/moving_variance:0\n",
      "resnet50/group0/block2/conv2/kernel:0\n",
      "resnet50/group0/block2/conv2/bn/gamma:0\n",
      "resnet50/group0/block2/conv2/bn/beta:0\n",
      "resnet50/group0/block2/conv2/bn/moving_mean:0\n",
      "resnet50/group0/block2/conv2/bn/moving_variance:0\n",
      "resnet50/group0/block2/conv3/kernel:0\n",
      "resnet50/group0/block2/conv3/bn/gamma:0\n",
      "resnet50/group0/block2/conv3/bn/beta:0\n",
      "resnet50/group0/block2/conv3/bn/moving_mean:0\n",
      "resnet50/group0/block2/conv3/bn/moving_variance:0\n",
      "resnet50/group1/block0/conv1/kernel:0\n",
      "resnet50/group1/block0/conv1/bn/gamma:0\n",
      "resnet50/group1/block0/conv1/bn/beta:0\n",
      "resnet50/group1/block0/conv1/bn/moving_mean:0\n",
      "resnet50/group1/block0/conv1/bn/moving_variance:0\n",
      "resnet50/group1/block0/conv2/kernel:0\n",
      "resnet50/group1/block0/conv2/bn/gamma:0\n",
      "resnet50/group1/block0/conv2/bn/beta:0\n",
      "resnet50/group1/block0/conv2/bn/moving_mean:0\n",
      "resnet50/group1/block0/conv2/bn/moving_variance:0\n",
      "resnet50/group1/block0/convshortcut/kernel:0\n",
      "resnet50/group1/block0/conv3/kernel:0\n",
      "resnet50/group1/block0/convshortcut/bn/gamma:0\n",
      "resnet50/group1/block0/convshortcut/bn/beta:0\n",
      "resnet50/group1/block0/convshortcut/bn/moving_mean:0\n",
      "resnet50/group1/block0/convshortcut/bn/moving_variance:0\n",
      "resnet50/group1/block0/conv3/bn/gamma:0\n",
      "resnet50/group1/block0/conv3/bn/beta:0\n",
      "resnet50/group1/block0/conv3/bn/moving_mean:0\n",
      "resnet50/group1/block0/conv3/bn/moving_variance:0\n",
      "resnet50/group1/block1/conv1/kernel:0\n",
      "resnet50/group1/block1/conv1/bn/gamma:0\n",
      "resnet50/group1/block1/conv1/bn/beta:0\n",
      "resnet50/group1/block1/conv1/bn/moving_mean:0\n",
      "resnet50/group1/block1/conv1/bn/moving_variance:0\n",
      "resnet50/group1/block1/conv2/kernel:0\n",
      "resnet50/group1/block1/conv2/bn/gamma:0\n",
      "resnet50/group1/block1/conv2/bn/beta:0\n",
      "resnet50/group1/block1/conv2/bn/moving_mean:0\n",
      "resnet50/group1/block1/conv2/bn/moving_variance:0\n",
      "resnet50/group1/block1/conv3/kernel:0\n",
      "resnet50/group1/block1/conv3/bn/gamma:0\n",
      "resnet50/group1/block1/conv3/bn/beta:0\n",
      "resnet50/group1/block1/conv3/bn/moving_mean:0\n",
      "resnet50/group1/block1/conv3/bn/moving_variance:0\n",
      "resnet50/group1/block2/conv1/kernel:0\n",
      "resnet50/group1/block2/conv1/bn/gamma:0\n",
      "resnet50/group1/block2/conv1/bn/beta:0\n",
      "resnet50/group1/block2/conv1/bn/moving_mean:0\n",
      "resnet50/group1/block2/conv1/bn/moving_variance:0\n",
      "resnet50/group1/block2/conv2/kernel:0\n",
      "resnet50/group1/block2/conv2/bn/gamma:0\n",
      "resnet50/group1/block2/conv2/bn/beta:0\n",
      "resnet50/group1/block2/conv2/bn/moving_mean:0\n",
      "resnet50/group1/block2/conv2/bn/moving_variance:0\n",
      "resnet50/group1/block2/conv3/kernel:0\n",
      "resnet50/group1/block2/conv3/bn/gamma:0\n",
      "resnet50/group1/block2/conv3/bn/beta:0\n",
      "resnet50/group1/block2/conv3/bn/moving_mean:0\n",
      "resnet50/group1/block2/conv3/bn/moving_variance:0\n",
      "resnet50/group1/block3/conv1/kernel:0\n",
      "resnet50/group1/block3/conv1/bn/gamma:0\n",
      "resnet50/group1/block3/conv1/bn/beta:0\n",
      "resnet50/group1/block3/conv1/bn/moving_mean:0\n",
      "resnet50/group1/block3/conv1/bn/moving_variance:0\n",
      "resnet50/group1/block3/conv2/kernel:0\n",
      "resnet50/group1/block3/conv2/bn/gamma:0\n",
      "resnet50/group1/block3/conv2/bn/beta:0\n",
      "resnet50/group1/block3/conv2/bn/moving_mean:0\n",
      "resnet50/group1/block3/conv2/bn/moving_variance:0\n",
      "resnet50/group1/block3/conv3/kernel:0\n",
      "resnet50/group1/block3/conv3/bn/gamma:0\n",
      "resnet50/group1/block3/conv3/bn/beta:0\n",
      "resnet50/group1/block3/conv3/bn/moving_mean:0\n",
      "resnet50/group1/block3/conv3/bn/moving_variance:0\n",
      "resnet50/group2/block0/conv1/kernel:0\n",
      "resnet50/group2/block0/conv1/bn/gamma:0\n",
      "resnet50/group2/block0/conv1/bn/beta:0\n",
      "resnet50/group2/block0/conv1/bn/moving_mean:0\n",
      "resnet50/group2/block0/conv1/bn/moving_variance:0\n",
      "resnet50/group2/block0/conv2/kernel:0\n",
      "resnet50/group2/block0/conv2/bn/gamma:0\n",
      "resnet50/group2/block0/conv2/bn/beta:0\n",
      "resnet50/group2/block0/conv2/bn/moving_mean:0\n",
      "resnet50/group2/block0/conv2/bn/moving_variance:0\n",
      "resnet50/group2/block0/convshortcut/kernel:0\n",
      "resnet50/group2/block0/conv3/kernel:0\n",
      "resnet50/group2/block0/convshortcut/bn/gamma:0\n",
      "resnet50/group2/block0/convshortcut/bn/beta:0\n",
      "resnet50/group2/block0/convshortcut/bn/moving_mean:0\n",
      "resnet50/group2/block0/convshortcut/bn/moving_variance:0\n",
      "resnet50/group2/block0/conv3/bn/gamma:0\n",
      "resnet50/group2/block0/conv3/bn/beta:0\n",
      "resnet50/group2/block0/conv3/bn/moving_mean:0\n",
      "resnet50/group2/block0/conv3/bn/moving_variance:0\n",
      "resnet50/group2/block1/conv1/kernel:0\n",
      "resnet50/group2/block1/conv1/bn/gamma:0\n",
      "resnet50/group2/block1/conv1/bn/beta:0\n",
      "resnet50/group2/block1/conv1/bn/moving_mean:0\n",
      "resnet50/group2/block1/conv1/bn/moving_variance:0\n",
      "resnet50/group2/block1/conv2/kernel:0\n",
      "resnet50/group2/block1/conv2/bn/gamma:0\n",
      "resnet50/group2/block1/conv2/bn/beta:0\n",
      "resnet50/group2/block1/conv2/bn/moving_mean:0\n",
      "resnet50/group2/block1/conv2/bn/moving_variance:0\n",
      "resnet50/group2/block1/conv3/kernel:0\n",
      "resnet50/group2/block1/conv3/bn/gamma:0\n",
      "resnet50/group2/block1/conv3/bn/beta:0\n",
      "resnet50/group2/block1/conv3/bn/moving_mean:0\n",
      "resnet50/group2/block1/conv3/bn/moving_variance:0\n",
      "resnet50/group2/block2/conv1/kernel:0\n",
      "resnet50/group2/block2/conv1/bn/gamma:0\n",
      "resnet50/group2/block2/conv1/bn/beta:0\n",
      "resnet50/group2/block2/conv1/bn/moving_mean:0\n",
      "resnet50/group2/block2/conv1/bn/moving_variance:0\n",
      "resnet50/group2/block2/conv2/kernel:0\n",
      "resnet50/group2/block2/conv2/bn/gamma:0\n",
      "resnet50/group2/block2/conv2/bn/beta:0\n",
      "resnet50/group2/block2/conv2/bn/moving_mean:0\n",
      "resnet50/group2/block2/conv2/bn/moving_variance:0\n",
      "resnet50/group2/block2/conv3/kernel:0\n",
      "resnet50/group2/block2/conv3/bn/gamma:0\n",
      "resnet50/group2/block2/conv3/bn/beta:0\n",
      "resnet50/group2/block2/conv3/bn/moving_mean:0\n",
      "resnet50/group2/block2/conv3/bn/moving_variance:0\n",
      "resnet50/group2/block3/conv1/kernel:0\n",
      "resnet50/group2/block3/conv1/bn/gamma:0\n",
      "resnet50/group2/block3/conv1/bn/beta:0\n",
      "resnet50/group2/block3/conv1/bn/moving_mean:0\n",
      "resnet50/group2/block3/conv1/bn/moving_variance:0\n",
      "resnet50/group2/block3/conv2/kernel:0\n",
      "resnet50/group2/block3/conv2/bn/gamma:0\n",
      "resnet50/group2/block3/conv2/bn/beta:0\n",
      "resnet50/group2/block3/conv2/bn/moving_mean:0\n",
      "resnet50/group2/block3/conv2/bn/moving_variance:0\n",
      "resnet50/group2/block3/conv3/kernel:0\n",
      "resnet50/group2/block3/conv3/bn/gamma:0\n",
      "resnet50/group2/block3/conv3/bn/beta:0\n",
      "resnet50/group2/block3/conv3/bn/moving_mean:0\n",
      "resnet50/group2/block3/conv3/bn/moving_variance:0\n",
      "resnet50/group2/block4/conv1/kernel:0\n",
      "resnet50/group2/block4/conv1/bn/gamma:0\n",
      "resnet50/group2/block4/conv1/bn/beta:0\n",
      "resnet50/group2/block4/conv1/bn/moving_mean:0\n",
      "resnet50/group2/block4/conv1/bn/moving_variance:0\n",
      "resnet50/group2/block4/conv2/kernel:0\n",
      "resnet50/group2/block4/conv2/bn/gamma:0\n",
      "resnet50/group2/block4/conv2/bn/beta:0\n",
      "resnet50/group2/block4/conv2/bn/moving_mean:0\n",
      "resnet50/group2/block4/conv2/bn/moving_variance:0\n",
      "resnet50/group2/block4/conv3/kernel:0\n",
      "resnet50/group2/block4/conv3/bn/gamma:0\n",
      "resnet50/group2/block4/conv3/bn/beta:0\n",
      "resnet50/group2/block4/conv3/bn/moving_mean:0\n",
      "resnet50/group2/block4/conv3/bn/moving_variance:0\n",
      "resnet50/group2/block5/conv1/kernel:0\n",
      "resnet50/group2/block5/conv1/bn/gamma:0\n",
      "resnet50/group2/block5/conv1/bn/beta:0\n",
      "resnet50/group2/block5/conv1/bn/moving_mean:0\n",
      "resnet50/group2/block5/conv1/bn/moving_variance:0\n",
      "resnet50/group2/block5/conv2/kernel:0\n",
      "resnet50/group2/block5/conv2/bn/gamma:0\n",
      "resnet50/group2/block5/conv2/bn/beta:0\n",
      "resnet50/group2/block5/conv2/bn/moving_mean:0\n",
      "resnet50/group2/block5/conv2/bn/moving_variance:0\n",
      "resnet50/group2/block5/conv3/kernel:0\n",
      "resnet50/group2/block5/conv3/bn/gamma:0\n",
      "resnet50/group2/block5/conv3/bn/beta:0\n",
      "resnet50/group2/block5/conv3/bn/moving_mean:0\n",
      "resnet50/group2/block5/conv3/bn/moving_variance:0\n",
      "resnet50/group3/block0/conv1/kernel:0\n",
      "resnet50/group3/block0/conv1/bn/gamma:0\n",
      "resnet50/group3/block0/conv1/bn/beta:0\n",
      "resnet50/group3/block0/conv1/bn/moving_mean:0\n",
      "resnet50/group3/block0/conv1/bn/moving_variance:0\n",
      "resnet50/group3/block0/conv2/kernel:0\n",
      "resnet50/group3/block0/conv2/bn/gamma:0\n",
      "resnet50/group3/block0/conv2/bn/beta:0\n",
      "resnet50/group3/block0/conv2/bn/moving_mean:0\n",
      "resnet50/group3/block0/conv2/bn/moving_variance:0\n",
      "resnet50/group3/block0/convshortcut/kernel:0\n",
      "resnet50/group3/block0/conv3/kernel:0\n",
      "resnet50/group3/block0/convshortcut/bn/gamma:0\n",
      "resnet50/group3/block0/convshortcut/bn/beta:0\n",
      "resnet50/group3/block0/convshortcut/bn/moving_mean:0\n",
      "resnet50/group3/block0/convshortcut/bn/moving_variance:0\n",
      "resnet50/group3/block0/conv3/bn/gamma:0\n",
      "resnet50/group3/block0/conv3/bn/beta:0\n",
      "resnet50/group3/block0/conv3/bn/moving_mean:0\n",
      "resnet50/group3/block0/conv3/bn/moving_variance:0\n",
      "resnet50/group3/block1/conv1/kernel:0\n",
      "resnet50/group3/block1/conv1/bn/gamma:0\n",
      "resnet50/group3/block1/conv1/bn/beta:0\n",
      "resnet50/group3/block1/conv1/bn/moving_mean:0\n",
      "resnet50/group3/block1/conv1/bn/moving_variance:0\n",
      "resnet50/group3/block1/conv2/kernel:0\n",
      "resnet50/group3/block1/conv2/bn/gamma:0\n",
      "resnet50/group3/block1/conv2/bn/beta:0\n",
      "resnet50/group3/block1/conv2/bn/moving_mean:0\n",
      "resnet50/group3/block1/conv2/bn/moving_variance:0\n",
      "resnet50/group3/block1/conv3/kernel:0\n",
      "resnet50/group3/block1/conv3/bn/gamma:0\n",
      "resnet50/group3/block1/conv3/bn/beta:0\n",
      "resnet50/group3/block1/conv3/bn/moving_mean:0\n",
      "resnet50/group3/block1/conv3/bn/moving_variance:0\n",
      "resnet50/group3/block2/conv1/kernel:0\n",
      "resnet50/group3/block2/conv1/bn/gamma:0\n",
      "resnet50/group3/block2/conv1/bn/beta:0\n",
      "resnet50/group3/block2/conv1/bn/moving_mean:0\n",
      "resnet50/group3/block2/conv1/bn/moving_variance:0\n",
      "resnet50/group3/block2/conv2/kernel:0\n",
      "resnet50/group3/block2/conv2/bn/gamma:0\n",
      "resnet50/group3/block2/conv2/bn/beta:0\n",
      "resnet50/group3/block2/conv2/bn/moving_mean:0\n",
      "resnet50/group3/block2/conv2/bn/moving_variance:0\n",
      "resnet50/group3/block2/conv3/kernel:0\n",
      "resnet50/group3/block2/conv3/bn/gamma:0\n",
      "resnet50/group3/block2/conv3/bn/beta:0\n",
      "resnet50/group3/block2/conv3/bn/moving_mean:0\n",
      "resnet50/group3/block2/conv3/bn/moving_variance:0\n"
     ]
    }
   ],
   "source": [
    "for var in model.variables:\n",
    "    print(var.name)"
   ]
  },
  {
   "cell_type": "code",
   "execution_count": 5,
   "metadata": {},
   "outputs": [],
   "source": [
    "used = set()\n",
    "for var in model.variables:\n",
    "    name_var = var.name\n",
    "    for key, value in convert_to.items():\n",
    "        name_var = name_var.replace(key, value)\n",
    "    if name_var in used:\n",
    "        print('what')\n",
    "    weights = tensorpack_weights[name_var]\n",
    "    used.add(name_var)\n",
    "    var.assign(weights)\n",
    "    np.testing.assert_almost_equal(weights, var.numpy())\n"
   ]
  },
  {
   "cell_type": "code",
   "execution_count": 6,
   "metadata": {},
   "outputs": [
    {
     "data": {
      "text/plain": [
       "265"
      ]
     },
     "execution_count": 6,
     "metadata": {},
     "output_type": "execute_result"
    }
   ],
   "source": [
    "len(used)"
   ]
  },
  {
   "cell_type": "code",
   "execution_count": 12,
   "metadata": {},
   "outputs": [],
   "source": [
    "model.save_weights('resnet50_tensorpack_conversion.h5')"
   ]
  },
  {
   "cell_type": "code",
   "execution_count": 13,
   "metadata": {},
   "outputs": [],
   "source": [
    "model.load_weights('resnet50_tensorpack_conversion.h5')"
   ]
  },
  {
   "cell_type": "code",
   "execution_count": 14,
   "metadata": {},
   "outputs": [],
   "source": [
    "import hashlib\n",
    "\n",
    "def hash_file(fpath, algorithm='sha256', chunk_size=65535):\n",
    "    \"\"\"[Copyright Keras] Calculates a file sha256 or md5 hash.\n",
    "\n",
    "    # Example\n",
    "    ```python\n",
    "        >>> from keras.utils.data_utils import _hash_file\n",
    "        >>> _hash_file('/path/to/file.zip')\n",
    "        'e3b0c44298fc1c149afbf4c8996fb92427ae41e4649b934ca495991b7852b855'\n",
    "    ```\n",
    "\n",
    "    Arguments:\n",
    "\n",
    "    - *fpath*: path to the file being validated\n",
    "    - *algorithm*: hash algorithm, one of 'auto', 'sha256', or 'md5'.\n",
    "           The default 'auto' detects the hash algorithm in use.\n",
    "    - *chunk_size*: Bytes to read at a time, important for large files.\n",
    "\n",
    "    Returns:\n",
    "    The file hash\n",
    "    \"\"\"\n",
    "    if (algorithm == 'sha256') or (algorithm == 'auto' and len(hash) == 64):\n",
    "        hasher = hashlib.sha256()\n",
    "    else:\n",
    "        hasher = hashlib.md5()\n",
    "\n",
    "    with open(fpath, 'rb') as fpath_file:\n",
    "        for chunk in iter(lambda: fpath_file.read(chunk_size), b''):\n",
    "            hasher.update(chunk)\n",
    "\n",
    "    return hasher.hexdigest()\n",
    "\n"
   ]
  },
  {
   "cell_type": "code",
   "execution_count": 15,
   "metadata": {},
   "outputs": [
    {
     "data": {
      "text/plain": [
       "'3ffd584081cc56435a3689d12afd7cf9'"
      ]
     },
     "execution_count": 15,
     "metadata": {},
     "output_type": "execute_result"
    }
   ],
   "source": [
    "hash_file('resnet50_tensorpack_conversion.h5', algorithm='md5')"
   ]
  },
  {
   "cell_type": "code",
   "execution_count": null,
   "metadata": {},
   "outputs": [],
   "source": []
  }
 ],
 "metadata": {
  "kernelspec": {
   "display_name": "Python 3",
   "language": "python",
   "name": "python3"
  },
  "language_info": {
   "codemirror_mode": {
    "name": "ipython",
    "version": 3
   },
   "file_extension": ".py",
   "mimetype": "text/x-python",
   "name": "python",
   "nbconvert_exporter": "python",
   "pygments_lexer": "ipython3",
   "version": "3.7.2"
  }
 },
 "nbformat": 4,
 "nbformat_minor": 2
}
