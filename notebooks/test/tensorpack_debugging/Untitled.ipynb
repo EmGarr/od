{
 "cells": [
  {
   "cell_type": "code",
   "execution_count": 2,
   "metadata": {},
   "outputs": [],
   "source": [
    "import tensorflow as tf"
   ]
  },
  {
   "cell_type": "markdown",
   "metadata": {},
   "source": [
    "# Losses"
   ]
  },
  {
   "cell_type": "markdown",
   "metadata": {},
   "source": [
    "## RPN\n",
    "\n",
    "### Shared inputs\n"
   ]
  },
  {
   "cell_type": "code",
   "execution_count": 14,
   "metadata": {},
   "outputs": [],
   "source": [
    "from od.core.anchor_generator import generate_anchors\n",
    "from od.core.argmax_matcher import ArgMaxMatcher\n",
    "from od.core.box_coder import encode_boxes_faster_rcnn\n",
    "from od.core.box_ops import compute_iou\n",
    "from od.core.losses import SmoothL1Localization\n",
    "from od.core.sampling_ops import batch_sample_balanced_positive_negative\n",
    "from od.core.standard_fields import BoxField, LossField\n",
    "from od.core.target_assigner import TargetAssigner, batch_assign_targets\n",
    "\n",
    "RPN_BATCH_PER_IM = 256\n",
    "matcher = ArgMaxMatcher(0.7, 0.3, force_match_for_each_row=True)\n",
    "target_assigner = TargetAssigner(compute_iou, matcher, encode_boxes_faster_rcnn)\n",
    "\n",
    "localization_pred = tf.constant(\n",
    "        [[[0, 0, 0, 0], [0, 0, 0, 0], [0, 0, 0, 0]], [[0, 0, 0, 0], [0, 0, 0, 0], [0, 0, 0, 0]]],\n",
    "        tf.float32)\n",
    "\n",
    "classification_pred = tf.constant(\n",
    "        [[[-100, 100], [100, -100], [100, -100]], [[-100, 100], [-100, 100], [-100, 100]]],\n",
    "        tf.float32)\n",
    "\n",
    "anchors = tf.constant([[0, 0, 1, 1], [0, 0, 2, 2], [0, 0, 3, 3]], tf.float32)\n",
    "\n",
    "ground_truths = {\n",
    "        BoxField.BOXES:\n",
    "            tf.constant([[[0, 0, 1, 1], [0, 0, 2, 2]], [[0, 0, 3, 3], [0, 0, 0, 0]]], tf.float32),\n",
    "        BoxField.NUM_BOXES:\n",
    "            tf.constant([[2], [1]], tf.int32),\n",
    "    }\n",
    "\n",
    "# Will be auto batch by the target assigner\n",
    "anchors = {BoxField.BOXES: anchors}\n",
    "\n",
    "# We only want the Localization field here the target assigner will understand that\n",
    "# it is the RPN mode.\n",
    "gt_boxes = tf.unstack(ground_truths[BoxField.BOXES])\n",
    "num_boxes = tf.unstack(ground_truths[BoxField.NUM_BOXES])\n",
    "ground_truths = [{BoxField.BOXES: b[:nb[0]]} for b, nb in zip(gt_boxes, num_boxes)]\n",
    "\n",
    "y_true, weights, _ = batch_assign_targets(target_assigner, anchors, ground_truths)\n",
    "\n",
    "## Samling\n",
    "# y_true[LossField.CLASSIFICATION] is a [batch_size, num_anchors, 1]\n",
    "labels = tf.cast(y_true[LossField.CLASSIFICATION][:, :, 0], dtype=bool)\n",
    "sample_idx = batch_sample_balanced_positive_negative(\n",
    "    weights[LossField.CLASSIFICATION],\n",
    "    RPN_BATCH_PER_IM,\n",
    "    labels,\n",
    "    positive_fraction=0.5)\n",
    "\n",
    "weights[LossField.CLASSIFICATION] = tf.multiply(sample_idx,\n",
    "                                                        weights[LossField.CLASSIFICATION])\n",
    "weights[LossField.LOCALIZATION] = tf.multiply(sample_idx, weights[LossField.LOCALIZATION])\n",
    "\n"
   ]
  },
  {
   "cell_type": "code",
   "execution_count": 19,
   "metadata": {},
   "outputs": [
    {
     "data": {
      "text/plain": [
       "<tf.Tensor: shape=(2, 3), dtype=float32, numpy=\n",
       "array([[1., 1., 0.],\n",
       "       [0., 0., 1.]], dtype=float32)>"
      ]
     },
     "execution_count": 19,
     "metadata": {},
     "output_type": "execute_result"
    }
   ],
   "source": [
    "y_true[LossField.CLASSIFICATION][:, :, 0]"
   ]
  },
  {
   "cell_type": "code",
   "execution_count": 15,
   "metadata": {},
   "outputs": [
    {
     "data": {
      "text/plain": [
       "{'classification': <tf.Tensor: shape=(2, 3), dtype=float32, numpy=\n",
       " array([[1., 1., 0.],\n",
       "        [1., 0., 1.]], dtype=float32)>,\n",
       " 'localization': <tf.Tensor: shape=(2, 3), dtype=float32, numpy=\n",
       " array([[1., 1., 0.],\n",
       "        [0., 0., 1.]], dtype=float32)>}"
      ]
     },
     "execution_count": 15,
     "metadata": {},
     "output_type": "execute_result"
    }
   ],
   "source": [
    "weights"
   ]
  },
  {
   "cell_type": "code",
   "execution_count": 29,
   "metadata": {},
   "outputs": [
    {
     "data": {
      "text/plain": [
       "<tf.Tensor: shape=(2, 3), dtype=float32, numpy=\n",
       "array([[0., 1., 1.],\n",
       "       [0., 0., 0.]], dtype=float32)>"
      ]
     },
     "execution_count": 29,
     "metadata": {},
     "output_type": "execute_result"
    }
   ],
   "source": [
    "label_logits = tf.nn.softmax(classification_pred)[:, :, 0]\n",
    "label_logits"
   ]
  },
  {
   "cell_type": "markdown",
   "metadata": {},
   "source": [
    "### Tensorpack"
   ]
  },
  {
   "cell_type": "code",
   "execution_count": 37,
   "metadata": {},
   "outputs": [
    {
     "data": {
      "text/plain": [
       "<tf.Tensor: shape=(), dtype=float32, numpy=7.6971893>"
      ]
     },
     "execution_count": 37,
     "metadata": {},
     "output_type": "execute_result"
    }
   ],
   "source": [
    "anchor_labels = y_true[LossField.CLASSIFICATION][:, :, 0]\n",
    "y_pred_bce = tf.nn.softmax(classification_pred)[:, :, 0]\n",
    "valid_mask = tf.stop_gradient(tf.not_equal(anchor_labels, -1))\n",
    "pos_mask = tf.stop_gradient(tf.equal(anchor_labels, 1))\n",
    "nr_valid = tf.stop_gradient(tf.math.count_nonzero(valid_mask, dtype=tf.int32), name='num_valid_anchor')\n",
    "nr_pos = tf.identity(tf.math.count_nonzero(pos_mask, dtype=tf.int32), name='num_pos_anchor')\n",
    "\n",
    "valid_anchor_labels = tf.boolean_mask(anchor_labels, valid_mask)\n",
    "valid_label_logits = tf.boolean_mask(label_logits, valid_mask)\n",
    "\n",
    "\n",
    "# Per-level loss summaries in FPN may appear lower due to the use of a small placeholder.\n",
    "# But the total RPN loss will be fine.  TODO make the summary op smarter\n",
    "placeholder = 0.\n",
    "\n",
    "label_loss = tf.keras.losses.binary_crossentropy(valid_anchor_labels, valid_label_logits, from_logits=False)\n",
    "#label_loss = tf.reduce_sum(label_loss) * (1. / RPN_BATCH_PER_IM)\n",
    "#label_loss = tf.where(tf.equal(nr_valid, 0), placeholder, label_loss, name='label_loss')\n",
    "label_loss\n"
   ]
  },
  {
   "cell_type": "code",
   "execution_count": 38,
   "metadata": {},
   "outputs": [
    {
     "data": {
      "text/plain": [
       "<tf.Tensor: shape=(), dtype=float32, numpy=1970.4805>"
      ]
     },
     "execution_count": 38,
     "metadata": {},
     "output_type": "execute_result"
    }
   ],
   "source": [
    "label_loss * 256"
   ]
  },
  {
   "cell_type": "code",
   "execution_count": 34,
   "metadata": {},
   "outputs": [
    {
     "data": {
      "text/plain": [
       "<tf.Tensor: shape=(6,), dtype=float32, numpy=array([1., 1., 0., 0., 0., 1.], dtype=float32)>"
      ]
     },
     "execution_count": 34,
     "metadata": {},
     "output_type": "execute_result"
    }
   ],
   "source": [
    "valid_anchor_labels"
   ]
  },
  {
   "cell_type": "code",
   "execution_count": 35,
   "metadata": {},
   "outputs": [
    {
     "data": {
      "text/plain": [
       "<tf.Tensor: shape=(6,), dtype=float32, numpy=array([0., 1., 1., 0., 0., 0.], dtype=float32)>"
      ]
     },
     "execution_count": 35,
     "metadata": {},
     "output_type": "execute_result"
    }
   ],
   "source": [
    "valid_label_logits"
   ]
  },
  {
   "cell_type": "code",
   "execution_count": null,
   "metadata": {},
   "outputs": [],
   "source": []
  },
  {
   "cell_type": "code",
   "execution_count": null,
   "metadata": {},
   "outputs": [],
   "source": [
    "pos_anchor_boxes = tf.boolean_mask(anchor_boxes, pos_mask)\n",
    "pos_box_logits = tf.boolean_mask(box_logits, pos_mask)\n",
    "delta = 1.0 / 9\n",
    "box_loss = tf.losses.huber_loss(\n",
    "    pos_anchor_boxes, pos_box_logits, delta=delta,\n",
    "    reduction=tf.losses.Reduction.SUM) / delta\n",
    "box_loss = box_loss * (1. / RPN_BATCH_PER_IM)\n",
    "box_loss = tf.where(tf.equal(nr_pos, 0), placeholder, box_loss, name='box_loss')\n"
   ]
  },
  {
   "cell_type": "markdown",
   "metadata": {},
   "source": [
    "### OD"
   ]
  },
  {
   "cell_type": "code",
   "execution_count": null,
   "metadata": {},
   "outputs": [],
   "source": [
    "localization_pred = tf.constant(\n",
    "        [[[0, 0, 0, 0], [0, 0, 0, 0], [0, 0, 0, 0]], [[0, 0, 0, 0], [0, 0, 0, 0], [0, 0, 0, 0]]],\n",
    "        tf.float32)\n",
    "\n",
    "classification_pred = tf.constant(\n",
    "        [[[-100, 100], [100, -100], [100, -100]], [[-100, 100], [-100, 100], [-100, 100]]],\n",
    "        tf.float32)\n",
    "\n",
    "anchors = tf.constant([[0, 0, 1, 1], [0, 0, 2, 2], [0, 0, 3, 3]], tf.float32)\n",
    "\n",
    "ground_truths = {\n",
    "        BoxField.BOXES:\n",
    "            tf.constant([[[0, 0, 1, 1], [0, 0, 2, 2]], [[0, 0, 3, 3], [0, 0, 0, 0]]], tf.float32),\n",
    "        BoxField.NUM_BOXES:\n",
    "            tf.constant([[2], [1]], tf.int32),\n",
    "    }\n",
    "rpn = RegionProposalNetwork(classification_loss_weight=1.0)\n",
    "losses = rpn.compute_loss(localization_pred, classification_pred, anchors, ground_truths)\n",
    "\n",
    "assert losses[LossField.CLASSIFICATION] == 100\n",
    "assert losses[LossField.LOCALIZATION] == 0\n",
    "assert len(losses) == 2\n"
   ]
  },
  {
   "cell_type": "code",
   "execution_count": null,
   "metadata": {},
   "outputs": [],
   "source": [
    "\n",
    "# Create one_hot encoding [batch_size, num_anchors, 1] -> [batch_size, num_anchors, 2]\n",
    "y_true[LossField.CLASSIFICATION] = tf.one_hot(tf.cast(\n",
    "    y_true[LossField.CLASSIFICATION][:, :, 0], tf.int32),\n",
    "                                              depth=2)\n",
    "\n",
    "weights[LossField.CLASSIFICATION] = tf.multiply(sample_idx,\n",
    "                                                weights[LossField.CLASSIFICATION])\n",
    "weights[LossField.LOCALIZATION] = tf.multiply(sample_idx, weights[LossField.LOCALIZATION])\n",
    "\n",
    "y_pred = {\n",
    "    LossField.CLASSIFICATION: classification_pred,\n",
    "    LossField.LOCALIZATION: localization_pred\n",
    "}\n",
    "\n",
    "return self.compute_losses(y_true, y_pred, weights)\n"
   ]
  }
 ],
 "metadata": {
  "kernelspec": {
   "display_name": "Python 3",
   "language": "python",
   "name": "python3"
  },
  "language_info": {
   "codemirror_mode": {
    "name": "ipython",
    "version": 3
   },
   "file_extension": ".py",
   "mimetype": "text/x-python",
   "name": "python",
   "nbconvert_exporter": "python",
   "pygments_lexer": "ipython3",
   "version": "3.6.6"
  }
 },
 "nbformat": 4,
 "nbformat_minor": 2
}
